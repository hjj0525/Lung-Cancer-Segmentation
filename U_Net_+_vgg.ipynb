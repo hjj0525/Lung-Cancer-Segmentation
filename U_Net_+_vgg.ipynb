{
  "nbformat": 4,
  "nbformat_minor": 0,
  "metadata": {
    "colab": {
      "name": "U-Net + vgg.ipynb",
      "private_outputs": true,
      "provenance": [],
      "collapsed_sections": []
    },
    "kernelspec": {
      "name": "python3",
      "display_name": "Python 3"
    },
    "language_info": {
      "name": "python"
    },
    "accelerator": "GPU"
  },
  "cells": [
    {
      "cell_type": "code",
      "metadata": {
        "id": "edsiCQpo9juK"
      },
      "source": [
        "!pip install keras==2.3.1\n",
        "!pip install tensorflow==2.1.0\n",
        "!pip install keras-applications==1.0.7\n",
        "!pip install image-classifiers==1.0.0\n",
        "!pip install efficientnet==1.0.0"
      ],
      "execution_count": null,
      "outputs": []
    },
    {
      "cell_type": "code",
      "metadata": {
        "id": "r_99Ydak92e2"
      },
      "source": [
        "!pip install segmentation-models"
      ],
      "execution_count": null,
      "outputs": []
    },
    {
      "cell_type": "code",
      "metadata": {
        "id": "w-Gcc_S1-Bx-"
      },
      "source": [
        "import os\n",
        "import numpy as np\n",
        "import pandas as pd\n",
        "import cv2\n",
        "import matplotlib.pyplot as plt\n",
        "%matplotlib inline \n",
        "# 노트북에서 plot 바로 가능하게\n",
        "from sklearn.model_selection import train_test_split\n",
        "from keras.models import Model\n",
        "from keras.layers import *\n",
        "from keras.optimizers import Adam\n",
        "from keras.regularizers import l2\n",
        "from keras.preprocessing.image import ImageDataGenerator\n",
        "import keras.backend as K\n",
        "from keras.callbacks import LearningRateScheduler, ModelCheckpoint"
      ],
      "execution_count": null,
      "outputs": []
    },
    {
      "cell_type": "code",
      "metadata": {
        "id": "BYTvhUdm-PsO"
      },
      "source": [
        "\n",
        "from google.colab import drive\n",
        "drive.mount('/content/drive')"
      ],
      "execution_count": null,
      "outputs": []
    },
    {
      "cell_type": "code",
      "metadata": {
        "id": "hd1WdfUs-Ref"
      },
      "source": [
        "IMAGE_PATH = '/content/drive/MyDrive/ML/Lung Cancer Segmentation/2d_images/'\n",
        "MASK_PATH = '/content/drive/MyDrive/ML/Lung Cancer Segmentation/2d_masks/'\n",
        "IMG_HEIGHT, IMG_WIDTH = 224, 224\n",
        "SEED = 42"
      ],
      "execution_count": null,
      "outputs": []
    },
    {
      "cell_type": "code",
      "metadata": {
        "id": "_8Gbu4Mm-dkW"
      },
      "source": [
        "\n",
        "all_images = [x for x in sorted(os.listdir(IMAGE_PATH)) if x[-4:] == '.tif']\n",
        "\n",
        "x_data = np.empty((len(all_images), IMG_HEIGHT, IMG_WIDTH), dtype='float32')\n",
        "print(x_data.shape)\n",
        "\n",
        "for i, name in enumerate(all_images):\n",
        "    im = cv2.imread(IMAGE_PATH + name, cv2.IMREAD_UNCHANGED).astype(\"int16\").astype('float32') # unchanged -> alpha 채널까지 읽어드림\n",
        "    im = cv2.resize(im, dsize=(IMG_WIDTH, IMG_HEIGHT), interpolation=cv2.INTER_LANCZOS4)\n",
        "    im = np.clip(im, -600-750, -600+750) # CT windowing\n",
        "    im = (im-np.min(im)) / (np.max(im) - np.min(im)) * 255# data normalization\n",
        "    print('x ', i)\n",
        "    x_data[i] = im\n",
        "    \n",
        "y_data = np.empty((len(all_images), IMG_HEIGHT, IMG_WIDTH), dtype='float32')\n",
        "for i, name in enumerate(all_images):\n",
        "    im = cv2.imread(MASK_PATH + name, cv2.IMREAD_UNCHANGED).astype('float32')/255.\n",
        "    im = cv2.resize(im, dsize=(IMG_WIDTH, IMG_HEIGHT), interpolation=cv2.INTER_NEAREST)\n",
        "    print('y ', i)\n",
        "    y_data[i] = im\n"
      ],
      "execution_count": null,
      "outputs": []
    },
    {
      "cell_type": "code",
      "metadata": {
        "id": "0aPsg96VFdyi"
      },
      "source": [
        "'''\n",
        "x_data = x_data[:,:,:,np.newaxis]\n",
        "x_data = np.concatenate((x_data, x_data, x_data), -1)\n",
        "y_data = y_data[:,:,:,np.newaxis]\n",
        "y_data = np.concatenate((y_data, y_data, y_data), -1)\n",
        "print(y_data.shape)\n",
        "print(x_data[0])\n",
        "'''"
      ],
      "execution_count": null,
      "outputs": []
    },
    {
      "cell_type": "code",
      "metadata": {
        "id": "x1FCMMJXNsHT"
      },
      "source": [
        "'''\n",
        "x_data = np.load('/content/drive/MyDrive/ML/Lung Cancer Segmentation/lung_img_data.npy')\n",
        "y_data = np.load('/content/drive/MyDrive/ML/Lung Cancer Segmentation/lung_mask_data.npy')\n",
        "'''"
      ],
      "execution_count": null,
      "outputs": []
    },
    {
      "cell_type": "code",
      "metadata": {
        "id": "Ca9f5NEGxCBJ"
      },
      "source": [
        "x_data = x_data[:,:,:,np.newaxis]\n",
        "y_data = y_data[:,:,:,np.newaxis]"
      ],
      "execution_count": null,
      "outputs": []
    },
    {
      "cell_type": "code",
      "metadata": {
        "id": "yPDdvyU3ncWW"
      },
      "source": [
        "import tensorflow as tf\n",
        "x_data = tf.convert_to_tensor(x_data, dtype = 'float32')\n",
        "x_data = tf.image.grayscale_to_rgb(x_data)\n",
        "x_data = x_data.numpy()"
      ],
      "execution_count": null,
      "outputs": []
    },
    {
      "cell_type": "code",
      "metadata": {
        "id": "2A_SgOZX_Y6e"
      },
      "source": [
        "print(x_data.shape)\n",
        "print(y_data.shape)\n",
        "x_train = x_data[:133]\n",
        "x_val = x_data[133:]\n",
        "y_train = y_data[:133]\n",
        "y_val = y_data[133:]\n",
        "print(len(x_train))\n",
        "print(len(x_val))"
      ],
      "execution_count": null,
      "outputs": []
    },
    {
      "cell_type": "code",
      "metadata": {
        "id": "1tFXzZnnCfs5"
      },
      "source": [
        "from segmentation_models import Unet\n",
        "from segmentation_models import get_preprocessing\n",
        "from segmentation_models.losses import bce_jaccard_loss\n",
        "from segmentation_models.metrics import iou_score"
      ],
      "execution_count": null,
      "outputs": []
    },
    {
      "cell_type": "code",
      "metadata": {
        "id": "1t8N321RCkwx"
      },
      "source": [
        "BACKBONE = 'vgg19'\n",
        "preprocess_input = get_preprocessing(BACKBONE)"
      ],
      "execution_count": null,
      "outputs": []
    },
    {
      "cell_type": "code",
      "metadata": {
        "id": "yhOhOmPQCmm5"
      },
      "source": [
        "# preprocess input\n",
        "x_train = preprocess_input(x_train)\n",
        "x_val = preprocess_input(x_val)\n",
        "\n",
        "N = x_train.shape[-1]\n",
        "\n",
        "# define model\n",
        "model = Unet(backbone_name=BACKBONE, encoder_weights=None, input_shape=(None, None, N))\n",
        "model.compile('Adam', loss=bce_jaccard_loss, metrics=[iou_score])"
      ],
      "execution_count": null,
      "outputs": []
    },
    {
      "cell_type": "code",
      "metadata": {
        "id": "a13xqI2nVLn7"
      },
      "source": [
        "print('x train: {}, y_train: {} \\n x_val: {}, y_val: {}'.format(x_train.shape, y_train.shape, x_val.shape, y_val.shape))"
      ],
      "execution_count": null,
      "outputs": []
    },
    {
      "cell_type": "code",
      "metadata": {
        "id": "3_mVnxBcpAoP"
      },
      "source": [
        "def my_generator(x_train, y_train, batch_size):\n",
        "    data_generator = ImageDataGenerator(\n",
        "                        width_shift_range=0.1,\n",
        "                        height_shift_range=0.1,\n",
        "                        rotation_range=10,\n",
        "                        zoom_range=0.1).flow(x_train, x_train, batch_size, seed=SEED)\n",
        "    mask_generator = ImageDataGenerator(\n",
        "                        width_shift_range=0.1,\n",
        "                        height_shift_range=0.1,\n",
        "                        rotation_range=10,\n",
        "                        zoom_range=0.1).flow(y_train, y_train, batch_size, seed=SEED)\n",
        "    while True:\n",
        "        x_batch, _ = data_generator.next()\n",
        "        y_batch, _ = mask_generator.next()\n",
        "        yield x_batch, y_batch"
      ],
      "execution_count": null,
      "outputs": []
    },
    {
      "cell_type": "code",
      "metadata": {
        "id": "FKHYGNiQpZHn"
      },
      "source": [
        "image_batch, mask_batch = next(my_generator(x_train, y_train, 8))"
      ],
      "execution_count": null,
      "outputs": []
    },
    {
      "cell_type": "code",
      "metadata": {
        "id": "YueFSS5EirlH"
      },
      "source": [
        "from keras.callbacks import EarlyStopping, ModelCheckpoint, ReduceLROnPlateau\n",
        "\n",
        "callbacks = [\n",
        "    EarlyStopping(patience=10, verbose=1),\n",
        "    ReduceLROnPlateau(factor=0.1, patience=3, min_lr=0.00001, verbose=1),\n",
        "    ModelCheckpoint('model-lung unet '+BACKBONE+'.h5', verbose=1, save_best_only=True, save_weights_only=True)\n",
        "]"
      ],
      "execution_count": null,
      "outputs": []
    },
    {
      "cell_type": "code",
      "metadata": {
        "id": "G5NUrg2VCp4Q"
      },
      "source": [
        "history = model.fit_generator(my_generator(x_train, y_train, 8),\n",
        "                           steps_per_epoch = 20,\n",
        "                           validation_data = (x_val, y_val),\n",
        "                           epochs=100, verbose=1,\n",
        "                           callbacks=callbacks)"
      ],
      "execution_count": null,
      "outputs": []
    },
    {
      "cell_type": "code",
      "metadata": {
        "id": "5kV4wLKJCuP5"
      },
      "source": [
        "def plot_history(history, title):\n",
        "    plt.figure(figsize=(10,3))\n",
        "    # Plot training & validation accuracy values\n",
        "    plt.subplot(121)\n",
        "    plt.plot(history.history['iou_score'])\n",
        "    plt.plot(history.history['val_iou_score'])\n",
        "    plt.title('Model iou_score')\n",
        "    plt.ylabel('iou_score')\n",
        "    plt.xlabel('Epoch')\n",
        "    plt.legend(['Train', 'Test'], loc='upper left')\n",
        "\n",
        "    # Plot training & validation loss values\n",
        "    plt.subplot(122)\n",
        "    plt.plot(history.history['loss'])\n",
        "    plt.plot(history.history['val_loss'])\n",
        "    plt.title('Model loss')\n",
        "    plt.ylabel('Loss')\n",
        "    plt.xlabel('Epoch')\n",
        "    plt.legend(['Train', 'Test'], loc='upper left')\n",
        "    plt.show()"
      ],
      "execution_count": null,
      "outputs": []
    },
    {
      "cell_type": "code",
      "metadata": {
        "id": "npyigvBOEBWD"
      },
      "source": [
        "plot_history(history, 'Unet - '+BACKBONE)"
      ],
      "execution_count": null,
      "outputs": []
    },
    {
      "cell_type": "code",
      "metadata": {
        "id": "5fdNrsfEi9oS"
      },
      "source": [
        "model.load_weights('model-lung unet '+BACKBONE+'.h5')"
      ],
      "execution_count": null,
      "outputs": []
    },
    {
      "cell_type": "code",
      "metadata": {
        "id": "8iEeSdD83FP0"
      },
      "source": [
        "y_predict = model.predict(x_val)\n",
        "\n",
        "for i in range(10):\n",
        "    fig, ax = plt.subplots(1,3,figsize=(12,6))\n",
        "    ax[0].set_title('Original')\n",
        "    ax[1].set_title('Result')\n",
        "    ax[2].set_title('Predicted Result')\n",
        "    ax[0].imshow(x_val[i,:,:,0], cmap='gray')\n",
        "    ax[1].imshow(y_val[i,:,:,0])\n",
        "    ax[2].imshow(y_predict[i,:,:,0])"
      ],
      "execution_count": null,
      "outputs": []
    },
    {
      "cell_type": "code",
      "metadata": {
        "id": "H4E0rRYwRHSh"
      },
      "source": [
        "print(y_predict[0])"
      ],
      "execution_count": null,
      "outputs": []
    },
    {
      "cell_type": "code",
      "metadata": {
        "id": "mRW328XBhasj"
      },
      "source": [
        "fig, ax = plt.subplots(1, 10, figsize=(60,120))\n",
        "for i in range(10):\n",
        "  ax[i].imshow(y_predict[i,:,:,0])\n",
        "\n"
      ],
      "execution_count": null,
      "outputs": []
    },
    {
      "cell_type": "code",
      "metadata": {
        "id": "fEMwaCziRF9h"
      },
      "source": [
        ""
      ],
      "execution_count": null,
      "outputs": []
    },
    {
      "cell_type": "code",
      "metadata": {
        "id": "uKXdXHRlTAhs"
      },
      "source": [
        "fig, ax = plt.subplots(1, 10, figsize=(60,120))\n",
        "for i in range(10):\n",
        "  ax[i].imshow(y_val[i,:,:,0])"
      ],
      "execution_count": null,
      "outputs": []
    },
    {
      "cell_type": "code",
      "metadata": {
        "id": "6xgLOmqOWsut"
      },
      "source": [
        "fig, ax = plt.subplots(1, 10, figsize=(60,120))\n",
        "for i in range(10):\n",
        "  ax[i].imshow(x_val[i,:,:,0], cmap='gray')"
      ],
      "execution_count": null,
      "outputs": []
    },
    {
      "cell_type": "code",
      "metadata": {
        "id": "OKhF7AaN4Cuj"
      },
      "source": [
        ""
      ],
      "execution_count": null,
      "outputs": []
    },
    {
      "cell_type": "code",
      "metadata": {
        "id": "hPilho91JnpH"
      },
      "source": [
        ""
      ],
      "execution_count": null,
      "outputs": []
    }
  ]
}